{
 "cells": [
  {
   "cell_type": "markdown",
   "id": "051f7e7c-50d7-499d-8386-57b1ae9b4e69",
   "metadata": {
    "execution": {
     "iopub.execute_input": "2023-05-13T07:11:24.178028Z",
     "iopub.status.busy": "2023-05-13T07:11:24.177700Z",
     "iopub.status.idle": "2023-05-13T07:11:24.181539Z",
     "shell.execute_reply": "2023-05-13T07:11:24.180604Z",
     "shell.execute_reply.started": "2023-05-13T07:11:24.178002Z"
    }
   },
   "source": [
    "#### **Team members**:  \n",
    "#####           -Godwin Bime, \n",
    "#####           -Yin Yin Tan, \n",
    "#####           -Pratik Patel, \n",
    "#####           -Crystal Li"
   ]
  },
  {
   "cell_type": "code",
   "execution_count": 3,
   "id": "ccf43da4-712e-4085-927b-a976bbd0be4b",
   "metadata": {
    "execution": {
     "iopub.execute_input": "2023-05-13T16:03:05.463648Z",
     "iopub.status.busy": "2023-05-13T16:03:05.463231Z",
     "iopub.status.idle": "2023-05-13T16:03:05.538264Z",
     "shell.execute_reply": "2023-05-13T16:03:05.537249Z",
     "shell.execute_reply.started": "2023-05-13T16:03:05.463608Z"
    },
    "tags": []
   },
   "outputs": [
    {
     "data": {
      "application/vnd.jupyter.widget-view+json": {
       "model_id": "a382a524bc9740a3a2cee68bc61643b0",
       "version_major": 2,
       "version_minor": 0
      },
      "text/plain": [
       "VBox()"
      ]
     },
     "metadata": {},
     "output_type": "display_data"
    },
    {
     "data": {
      "application/vnd.jupyter.widget-view+json": {
       "model_id": "",
       "version_major": 2,
       "version_minor": 0
      },
      "text/plain": [
       "FloatProgress(value=0.0, bar_style='info', description='Progress:', layout=Layout(height='25px', width='50%'),…"
      ]
     },
     "metadata": {},
     "output_type": "display_data"
    }
   ],
   "source": [
    "from pyspark.sql.window import Window\n",
    "from pyspark.sql import functions as f\n",
    "from pyspark.sql import Row\n",
    "#import pandas as pd\n",
    "#import matplotlib.pyplot as plt\n",
    "#import seaborn as sns"
   ]
  },
  {
   "cell_type": "code",
   "execution_count": 4,
   "id": "714c4962-b0e1-4dc1-b302-f14bceb59e72",
   "metadata": {
    "execution": {
     "iopub.execute_input": "2023-05-13T16:03:12.099511Z",
     "iopub.status.busy": "2023-05-13T16:03:12.099206Z",
     "iopub.status.idle": "2023-05-13T16:03:12.120751Z",
     "shell.execute_reply": "2023-05-13T16:03:12.120040Z",
     "shell.execute_reply.started": "2023-05-13T16:03:12.099483Z"
    },
    "tags": []
   },
   "outputs": [
    {
     "data": {
      "text/html": [
       "Current session configs: <tt>{'proxyUser': 'user_godwinbime', 'conf': {'spark.pyspark.python': 'python3', 'spark.pyspark.virtualenv.enabled': 'true', 'spark.pyspark.virtualenv.type': 'native', 'spark.pyspark.virtualenv.bin.path': '/usr/bin/virtualenv'}, 'kind': 'pyspark'}</tt><br>"
      ],
      "text/plain": [
       "<IPython.core.display.HTML object>"
      ]
     },
     "metadata": {},
     "output_type": "display_data"
    },
    {
     "data": {
      "text/html": [
       "<table>\n<tbody><tr><th>ID</th><th>YARN Application ID</th><th>Kind</th><th>State</th><th>Spark UI</th><th>Driver log</th><th>User</th><th>Current session?</th></tr><tr><td>9</td><td>application_1683841041393_0010</td><td>pyspark</td><td>idle</td><td><a target=\"_blank\" href=\"http://ip-172-31-82-225.ec2.internal:20888/proxy/application_1683841041393_0010/\" class=\"emr-proxy-link j-HDEEGS31QN2U application_1683841041393_0010\" emr-resource=\"j-HDEEGS31QN2U\n\" application-id=\"application_1683841041393_0010\">Link</a></td><td><a target=\"_blank\" href=\"http://ip-172-31-92-74.ec2.internal:8042/node/containerlogs/container_1683841041393_0010_01_000001/livy\">Link</a></td><td>None</td><td>✔</td></tr></tbody></table>"
      ],
      "text/plain": [
       "<IPython.core.display.HTML object>"
      ]
     },
     "metadata": {},
     "output_type": "display_data"
    }
   ],
   "source": [
    "%%info"
   ]
  },
  {
   "cell_type": "markdown",
   "id": "6020a5c3-72cc-4913-a33f-07b0bad1de25",
   "metadata": {
    "execution": {
     "iopub.execute_input": "2023-05-13T09:34:08.868306Z",
     "iopub.status.busy": "2023-05-13T09:34:08.867996Z"
    }
   },
   "source": [
    "### S3 bucket where the datasets are stored"
   ]
  },
  {
   "cell_type": "code",
   "execution_count": 64,
   "id": "b3592c2c-c09b-4ce1-b2c2-ab2d7385b94c",
   "metadata": {
    "execution": {
     "iopub.execute_input": "2023-05-13T16:22:31.776263Z",
     "iopub.status.busy": "2023-05-13T16:22:31.775950Z",
     "iopub.status.idle": "2023-05-13T16:22:31.825744Z",
     "shell.execute_reply": "2023-05-13T16:22:31.825068Z",
     "shell.execute_reply.started": "2023-05-13T16:22:31.776237Z"
    },
    "tags": []
   },
   "outputs": [
    {
     "data": {
      "application/vnd.jupyter.widget-view+json": {
       "model_id": "2180993d74e240d49721a46e1ebe6b38",
       "version_major": 2,
       "version_minor": 0
      },
      "text/plain": [
       "VBox()"
      ]
     },
     "metadata": {},
     "output_type": "display_data"
    },
    {
     "data": {
      "application/vnd.jupyter.widget-view+json": {
       "model_id": "",
       "version_major": 2,
       "version_minor": 0
      },
      "text/plain": [
       "FloatProgress(value=0.0, bar_style='info', description='Progress:', layout=Layout(height='25px', width='50%'),…"
      ]
     },
     "metadata": {},
     "output_type": "display_data"
    }
   ],
   "source": [
    "s3_bucket = 's3://ai620groupprojectbucket/'\n",
    "prefix = 'AI620'\n",
    "output_destination_loc = prefix + 'objec2vec/'"
   ]
  },
  {
   "cell_type": "markdown",
   "id": "c0870057-967f-4d35-b9c2-34ce767bfbd1",
   "metadata": {},
   "source": [
    "### Install pyspark packages"
   ]
  },
  {
   "cell_type": "code",
   "execution_count": 7,
   "id": "7b320c84-0d40-446d-989b-4b04b9990d05",
   "metadata": {
    "execution": {
     "iopub.execute_input": "2023-05-13T16:03:22.893604Z",
     "iopub.status.busy": "2023-05-13T16:03:22.893305Z",
     "iopub.status.idle": "2023-05-13T16:03:22.934449Z",
     "shell.execute_reply": "2023-05-13T16:03:22.933808Z",
     "shell.execute_reply.started": "2023-05-13T16:03:22.893578Z"
    },
    "tags": []
   },
   "outputs": [
    {
     "data": {
      "application/vnd.jupyter.widget-view+json": {
       "model_id": "2be26464aad4469c8cf6d1362d470858",
       "version_major": 2,
       "version_minor": 0
      },
      "text/plain": [
       "VBox()"
      ]
     },
     "metadata": {},
     "output_type": "display_data"
    },
    {
     "data": {
      "application/vnd.jupyter.widget-view+json": {
       "model_id": "",
       "version_major": 2,
       "version_minor": 0
      },
      "text/plain": [
       "FloatProgress(value=0.0, bar_style='info', description='Progress:', layout=Layout(height='25px', width='50%'),…"
      ]
     },
     "metadata": {},
     "output_type": "display_data"
    }
   ],
   "source": [
    "# sc.install_pypi_package(\"pandas==1.0.5\")"
   ]
  },
  {
   "cell_type": "code",
   "execution_count": 8,
   "id": "163aace0-9599-48e5-ae4b-dc9e805d47a5",
   "metadata": {
    "execution": {
     "iopub.execute_input": "2023-05-13T16:03:23.115620Z",
     "iopub.status.busy": "2023-05-13T16:03:23.115317Z",
     "iopub.status.idle": "2023-05-13T16:03:23.156926Z",
     "shell.execute_reply": "2023-05-13T16:03:23.156269Z",
     "shell.execute_reply.started": "2023-05-13T16:03:23.115596Z"
    },
    "tags": []
   },
   "outputs": [
    {
     "data": {
      "application/vnd.jupyter.widget-view+json": {
       "model_id": "eac441f5848646b1901c8a85b26be7eb",
       "version_major": 2,
       "version_minor": 0
      },
      "text/plain": [
       "VBox()"
      ]
     },
     "metadata": {},
     "output_type": "display_data"
    },
    {
     "data": {
      "application/vnd.jupyter.widget-view+json": {
       "model_id": "",
       "version_major": 2,
       "version_minor": 0
      },
      "text/plain": [
       "FloatProgress(value=0.0, bar_style='info', description='Progress:', layout=Layout(height='25px', width='50%'),…"
      ]
     },
     "metadata": {},
     "output_type": "display_data"
    }
   ],
   "source": [
    "# sc.install_pypi_package(\"matplotlib\", \"https://pypi.org/simple\")"
   ]
  },
  {
   "cell_type": "code",
   "execution_count": 9,
   "id": "163a2737-38aa-4ace-965c-79ebe7abbc35",
   "metadata": {
    "execution": {
     "iopub.execute_input": "2023-05-13T16:03:23.492490Z",
     "iopub.status.busy": "2023-05-13T16:03:23.492192Z",
     "iopub.status.idle": "2023-05-13T16:03:23.534333Z",
     "shell.execute_reply": "2023-05-13T16:03:23.533666Z",
     "shell.execute_reply.started": "2023-05-13T16:03:23.492465Z"
    },
    "tags": []
   },
   "outputs": [
    {
     "data": {
      "application/vnd.jupyter.widget-view+json": {
       "model_id": "10dbfa185fac4f9884c04ad83da4da13",
       "version_major": 2,
       "version_minor": 0
      },
      "text/plain": [
       "VBox()"
      ]
     },
     "metadata": {},
     "output_type": "display_data"
    },
    {
     "data": {
      "application/vnd.jupyter.widget-view+json": {
       "model_id": "",
       "version_major": 2,
       "version_minor": 0
      },
      "text/plain": [
       "FloatProgress(value=0.0, bar_style='info', description='Progress:', layout=Layout(height='25px', width='50%'),…"
      ]
     },
     "metadata": {},
     "output_type": "display_data"
    }
   ],
   "source": [
    "# sc.install_pypi_package(\"pyarrow==1.0.0\")"
   ]
  },
  {
   "cell_type": "code",
   "execution_count": 10,
   "id": "43c01e7c-a243-425e-a316-3a6b2310b4c1",
   "metadata": {
    "execution": {
     "iopub.execute_input": "2023-05-13T16:03:23.973524Z",
     "iopub.status.busy": "2023-05-13T16:03:23.973214Z",
     "iopub.status.idle": "2023-05-13T16:03:24.021504Z",
     "shell.execute_reply": "2023-05-13T16:03:24.020784Z",
     "shell.execute_reply.started": "2023-05-13T16:03:23.973499Z"
    },
    "tags": []
   },
   "outputs": [
    {
     "data": {
      "application/vnd.jupyter.widget-view+json": {
       "model_id": "e09f4401c2ef4e7c85c60deab98f920b",
       "version_major": 2,
       "version_minor": 0
      },
      "text/plain": [
       "VBox()"
      ]
     },
     "metadata": {},
     "output_type": "display_data"
    },
    {
     "data": {
      "application/vnd.jupyter.widget-view+json": {
       "model_id": "",
       "version_major": 2,
       "version_minor": 0
      },
      "text/plain": [
       "FloatProgress(value=0.0, bar_style='info', description='Progress:', layout=Layout(height='25px', width='50%'),…"
      ]
     },
     "metadata": {},
     "output_type": "display_data"
    }
   ],
   "source": [
    "# sc.install_pypi_package(\"seaborn\")"
   ]
  },
  {
   "cell_type": "markdown",
   "id": "9e0755c0-434e-444a-9ab3-dd64bf01590b",
   "metadata": {},
   "source": [
    "### View packages installed"
   ]
  },
  {
   "cell_type": "code",
   "execution_count": 11,
   "id": "b0008fe9-0a40-4086-9a58-445da2db1d84",
   "metadata": {
    "execution": {
     "iopub.execute_input": "2023-05-13T16:03:25.979378Z",
     "iopub.status.busy": "2023-05-13T16:03:25.979064Z",
     "iopub.status.idle": "2023-05-13T16:03:26.742043Z",
     "shell.execute_reply": "2023-05-13T16:03:26.741292Z",
     "shell.execute_reply.started": "2023-05-13T16:03:25.979351Z"
    },
    "tags": []
   },
   "outputs": [
    {
     "data": {
      "application/vnd.jupyter.widget-view+json": {
       "model_id": "158ac7adf904444aa0ac3e30f289e280",
       "version_major": 2,
       "version_minor": 0
      },
      "text/plain": [
       "VBox()"
      ]
     },
     "metadata": {},
     "output_type": "display_data"
    },
    {
     "data": {
      "application/vnd.jupyter.widget-view+json": {
       "model_id": "",
       "version_major": 2,
       "version_minor": 0
      },
      "text/plain": [
       "FloatProgress(value=0.0, bar_style='info', description='Progress:', layout=Layout(height='25px', width='50%'),…"
      ]
     },
     "metadata": {},
     "output_type": "display_data"
    },
    {
     "name": "stdout",
     "output_type": "stream",
     "text": [
      "Package                    Version\n",
      "-------------------------- ----------\n",
      "aws-cfn-bootstrap          2.0\n",
      "beautifulsoup4             4.9.3\n",
      "boto                       2.49.0\n",
      "click                      8.1.3\n",
      "docutils                   0.14\n",
      "jmespath                   1.0.1\n",
      "joblib                     1.2.0\n",
      "lockfile                   0.11.0\n",
      "lxml                       4.9.2\n",
      "mysqlclient                1.4.2\n",
      "nltk                       3.8\n",
      "nose                       1.3.4\n",
      "numpy                      1.20.0\n",
      "pip                        20.2.2\n",
      "py-dateutil                2.2\n",
      "pystache                   0.5.4\n",
      "python-daemon              2.2.3\n",
      "python37-sagemaker-pyspark 1.4.2\n",
      "pytz                       2022.7\n",
      "PyYAML                     5.4.1\n",
      "regex                      2021.11.10\n",
      "setuptools                 28.8.0\n",
      "simplejson                 3.2.0\n",
      "six                        1.13.0\n",
      "tqdm                       4.64.1\n",
      "wheel                      0.29.0\n",
      "windmill                   1.6\n",
      "\n",
      "WARNING: The directory '/home/.cache/pip' or its parent directory is not owned or is not writable by the current user. The cache has been disabled. Check the permissions and owner of that directory. If executing pip with sudo, you may want sudo's -H flag."
     ]
    }
   ],
   "source": [
    "sc.list_packages()"
   ]
  },
  {
   "cell_type": "markdown",
   "id": "4cc3164a-ed92-46ed-b407-bc47a6a95dfa",
   "metadata": {},
   "source": [
    "### Uninstall pyspark packages"
   ]
  },
  {
   "cell_type": "code",
   "execution_count": 12,
   "id": "20c7f2e9-2c68-423c-a211-900e7c8d30dd",
   "metadata": {
    "execution": {
     "iopub.execute_input": "2023-05-13T16:03:30.948497Z",
     "iopub.status.busy": "2023-05-13T16:03:30.948179Z",
     "iopub.status.idle": "2023-05-13T16:03:30.991417Z",
     "shell.execute_reply": "2023-05-13T16:03:30.990680Z",
     "shell.execute_reply.started": "2023-05-13T16:03:30.948470Z"
    },
    "tags": []
   },
   "outputs": [
    {
     "data": {
      "application/vnd.jupyter.widget-view+json": {
       "model_id": "6f257ef80c494a4b96f11ff43012b7bf",
       "version_major": 2,
       "version_minor": 0
      },
      "text/plain": [
       "VBox()"
      ]
     },
     "metadata": {},
     "output_type": "display_data"
    },
    {
     "data": {
      "application/vnd.jupyter.widget-view+json": {
       "model_id": "",
       "version_major": 2,
       "version_minor": 0
      },
      "text/plain": [
       "FloatProgress(value=0.0, bar_style='info', description='Progress:', layout=Layout(height='25px', width='50%'),…"
      ]
     },
     "metadata": {},
     "output_type": "display_data"
    }
   ],
   "source": [
    "# sc.uninstall_package('pandas')"
   ]
  },
  {
   "cell_type": "markdown",
   "id": "0acd4cf9-51d9-454e-b64c-eef42986e6fa",
   "metadata": {},
   "source": [
    "### Read the tweets dataset"
   ]
  },
  {
   "cell_type": "markdown",
   "id": "f90dd542-e848-46a0-b53a-f66a4ba39f4c",
   "metadata": {},
   "source": [
    "### Read training dataset"
   ]
  },
  {
   "cell_type": "code",
   "execution_count": 13,
   "id": "6c3e9f07-4ad5-4b1e-b547-5fc14704781e",
   "metadata": {
    "execution": {
     "iopub.execute_input": "2023-05-13T16:03:33.293604Z",
     "iopub.status.busy": "2023-05-13T16:03:33.293301Z",
     "iopub.status.idle": "2023-05-13T16:03:46.606638Z",
     "shell.execute_reply": "2023-05-13T16:03:46.605952Z",
     "shell.execute_reply.started": "2023-05-13T16:03:33.293578Z"
    },
    "tags": []
   },
   "outputs": [
    {
     "data": {
      "application/vnd.jupyter.widget-view+json": {
       "model_id": "e651f59ce7fe446f9cbc2fcbe739d45d",
       "version_major": 2,
       "version_minor": 0
      },
      "text/plain": [
       "VBox()"
      ]
     },
     "metadata": {},
     "output_type": "display_data"
    },
    {
     "data": {
      "application/vnd.jupyter.widget-view+json": {
       "model_id": "",
       "version_major": 2,
       "version_minor": 0
      },
      "text/plain": [
       "FloatProgress(value=0.0, bar_style='info', description='Progress:', layout=Layout(height='25px', width='50%'),…"
      ]
     },
     "metadata": {},
     "output_type": "display_data"
    }
   ],
   "source": [
    "train = spark.read.option(\"header\", \"true\").option(\"delimeter\", \",\").csv(s3_bucket + \"twitter_training.csv\")"
   ]
  },
  {
   "cell_type": "markdown",
   "id": "ab65dc38-2f38-4f7e-a153-c49adc2094bd",
   "metadata": {},
   "source": [
    "### Read testing dataset"
   ]
  },
  {
   "cell_type": "code",
   "execution_count": 14,
   "id": "09d393ea-9783-4462-8874-7c6e64ce4954",
   "metadata": {
    "execution": {
     "iopub.execute_input": "2023-05-13T16:03:50.433702Z",
     "iopub.status.busy": "2023-05-13T16:03:50.433369Z",
     "iopub.status.idle": "2023-05-13T16:03:51.184277Z",
     "shell.execute_reply": "2023-05-13T16:03:51.183526Z",
     "shell.execute_reply.started": "2023-05-13T16:03:50.433674Z"
    },
    "tags": []
   },
   "outputs": [
    {
     "data": {
      "application/vnd.jupyter.widget-view+json": {
       "model_id": "0cbce4a99b1146caaa4f33dab8e0af85",
       "version_major": 2,
       "version_minor": 0
      },
      "text/plain": [
       "VBox()"
      ]
     },
     "metadata": {},
     "output_type": "display_data"
    },
    {
     "data": {
      "application/vnd.jupyter.widget-view+json": {
       "model_id": "",
       "version_major": 2,
       "version_minor": 0
      },
      "text/plain": [
       "FloatProgress(value=0.0, bar_style='info', description='Progress:', layout=Layout(height='25px', width='50%'),…"
      ]
     },
     "metadata": {},
     "output_type": "display_data"
    }
   ],
   "source": [
    "test = spark.read.option(\"header\", \"true\").option(\"delimeter\", \",\").csv(s3_bucket + \"twitter_validation.csv\")"
   ]
  },
  {
   "cell_type": "markdown",
   "id": "afa1c56e-d400-49b2-b591-c6437d255276",
   "metadata": {},
   "source": [
    "### Dataset attribute names"
   ]
  },
  {
   "cell_type": "code",
   "execution_count": 15,
   "id": "d77c093e-1d49-4585-90dd-272723fd7ee8",
   "metadata": {
    "execution": {
     "iopub.execute_input": "2023-05-13T16:03:55.712414Z",
     "iopub.status.busy": "2023-05-13T16:03:55.712072Z",
     "iopub.status.idle": "2023-05-13T16:03:55.753119Z",
     "shell.execute_reply": "2023-05-13T16:03:55.752486Z",
     "shell.execute_reply.started": "2023-05-13T16:03:55.712385Z"
    },
    "tags": []
   },
   "outputs": [
    {
     "data": {
      "application/vnd.jupyter.widget-view+json": {
       "model_id": "a35ee5d690b548c392c84653cdea8fd1",
       "version_major": 2,
       "version_minor": 0
      },
      "text/plain": [
       "VBox()"
      ]
     },
     "metadata": {},
     "output_type": "display_data"
    },
    {
     "data": {
      "application/vnd.jupyter.widget-view+json": {
       "model_id": "",
       "version_major": 2,
       "version_minor": 0
      },
      "text/plain": [
       "FloatProgress(value=0.0, bar_style='info', description='Progress:', layout=Layout(height='25px', width='50%'),…"
      ]
     },
     "metadata": {},
     "output_type": "display_data"
    }
   ],
   "source": [
    "column_names = ['Tweet_ID', 'Entity', 'Sentiment', 'Tweet']"
   ]
  },
  {
   "cell_type": "markdown",
   "id": "1347db9d-8024-4004-8c62-2dd60022fff3",
   "metadata": {},
   "source": [
    "### Assign column/attribute names"
   ]
  },
  {
   "cell_type": "code",
   "execution_count": 16,
   "id": "f87255b2-e0d2-405f-8338-38ef6045e475",
   "metadata": {
    "execution": {
     "iopub.execute_input": "2023-05-13T16:03:57.986826Z",
     "iopub.status.busy": "2023-05-13T16:03:57.986484Z",
     "iopub.status.idle": "2023-05-13T16:03:58.237092Z",
     "shell.execute_reply": "2023-05-13T16:03:58.236395Z",
     "shell.execute_reply.started": "2023-05-13T16:03:57.986799Z"
    },
    "tags": []
   },
   "outputs": [
    {
     "data": {
      "application/vnd.jupyter.widget-view+json": {
       "model_id": "4c5ba2966a484f9c83016f0a31b9cf2e",
       "version_major": 2,
       "version_minor": 0
      },
      "text/plain": [
       "VBox()"
      ]
     },
     "metadata": {},
     "output_type": "display_data"
    },
    {
     "data": {
      "application/vnd.jupyter.widget-view+json": {
       "model_id": "",
       "version_major": 2,
       "version_minor": 0
      },
      "text/plain": [
       "FloatProgress(value=0.0, bar_style='info', description='Progress:', layout=Layout(height='25px', width='50%'),…"
      ]
     },
     "metadata": {},
     "output_type": "display_data"
    }
   ],
   "source": [
    "train=train.toDF(*column_names)"
   ]
  },
  {
   "cell_type": "code",
   "execution_count": 17,
   "id": "981559de-c365-4e96-bb1a-72eca4c4e2e6",
   "metadata": {
    "execution": {
     "iopub.execute_input": "2023-05-13T16:03:59.415596Z",
     "iopub.status.busy": "2023-05-13T16:03:59.415296Z",
     "iopub.status.idle": "2023-05-13T16:03:59.661992Z",
     "shell.execute_reply": "2023-05-13T16:03:59.661083Z",
     "shell.execute_reply.started": "2023-05-13T16:03:59.415571Z"
    },
    "tags": []
   },
   "outputs": [
    {
     "data": {
      "application/vnd.jupyter.widget-view+json": {
       "model_id": "1c0dd0382da54e0593dd190d3ecc82ce",
       "version_major": 2,
       "version_minor": 0
      },
      "text/plain": [
       "VBox()"
      ]
     },
     "metadata": {},
     "output_type": "display_data"
    },
    {
     "data": {
      "application/vnd.jupyter.widget-view+json": {
       "model_id": "",
       "version_major": 2,
       "version_minor": 0
      },
      "text/plain": [
       "FloatProgress(value=0.0, bar_style='info', description='Progress:', layout=Layout(height='25px', width='50%'),…"
      ]
     },
     "metadata": {},
     "output_type": "display_data"
    }
   ],
   "source": [
    "test=test.toDF(*column_names)"
   ]
  },
  {
   "cell_type": "code",
   "execution_count": 18,
   "id": "a8b8768f-04cc-421d-b2de-b2cbd0014a21",
   "metadata": {
    "execution": {
     "iopub.execute_input": "2023-05-13T16:04:00.901545Z",
     "iopub.status.busy": "2023-05-13T16:04:00.901246Z",
     "iopub.status.idle": "2023-05-13T16:04:03.169090Z",
     "shell.execute_reply": "2023-05-13T16:04:03.168404Z",
     "shell.execute_reply.started": "2023-05-13T16:04:00.901518Z"
    },
    "tags": []
   },
   "outputs": [
    {
     "data": {
      "application/vnd.jupyter.widget-view+json": {
       "model_id": "7c9b2e445fab466d8c3b2175b94e8951",
       "version_major": 2,
       "version_minor": 0
      },
      "text/plain": [
       "VBox()"
      ]
     },
     "metadata": {},
     "output_type": "display_data"
    },
    {
     "data": {
      "application/vnd.jupyter.widget-view+json": {
       "model_id": "",
       "version_major": 2,
       "version_minor": 0
      },
      "text/plain": [
       "FloatProgress(value=0.0, bar_style='info', description='Progress:', layout=Layout(height='25px', width='50%'),…"
      ]
     },
     "metadata": {},
     "output_type": "display_data"
    },
    {
     "name": "stdout",
     "output_type": "stream",
     "text": [
      "74681"
     ]
    }
   ],
   "source": [
    "train.count()"
   ]
  },
  {
   "cell_type": "code",
   "execution_count": 19,
   "id": "93f0c49a-2af0-4572-b985-5488ae24e8b7",
   "metadata": {
    "execution": {
     "iopub.execute_input": "2023-05-13T16:04:07.274728Z",
     "iopub.status.busy": "2023-05-13T16:04:07.274328Z",
     "iopub.status.idle": "2023-05-13T16:04:08.030752Z",
     "shell.execute_reply": "2023-05-13T16:04:08.029880Z",
     "shell.execute_reply.started": "2023-05-13T16:04:07.274697Z"
    },
    "tags": []
   },
   "outputs": [
    {
     "data": {
      "application/vnd.jupyter.widget-view+json": {
       "model_id": "0d8dd55494b147e98da8a56c7252eb6c",
       "version_major": 2,
       "version_minor": 0
      },
      "text/plain": [
       "VBox()"
      ]
     },
     "metadata": {},
     "output_type": "display_data"
    },
    {
     "data": {
      "application/vnd.jupyter.widget-view+json": {
       "model_id": "",
       "version_major": 2,
       "version_minor": 0
      },
      "text/plain": [
       "FloatProgress(value=0.0, bar_style='info', description='Progress:', layout=Layout(height='25px', width='50%'),…"
      ]
     },
     "metadata": {},
     "output_type": "display_data"
    },
    {
     "name": "stdout",
     "output_type": "stream",
     "text": [
      "1509"
     ]
    }
   ],
   "source": [
    "test.count()"
   ]
  },
  {
   "cell_type": "code",
   "execution_count": 20,
   "id": "168f6e92-e9d4-4f0d-b65e-f1861239a25d",
   "metadata": {
    "execution": {
     "iopub.execute_input": "2023-05-13T16:04:09.112471Z",
     "iopub.status.busy": "2023-05-13T16:04:09.112172Z",
     "iopub.status.idle": "2023-05-13T16:04:09.868577Z",
     "shell.execute_reply": "2023-05-13T16:04:09.867478Z",
     "shell.execute_reply.started": "2023-05-13T16:04:09.112446Z"
    },
    "tags": []
   },
   "outputs": [
    {
     "data": {
      "application/vnd.jupyter.widget-view+json": {
       "model_id": "70596055c68c4b9291106218ec2ac2e9",
       "version_major": 2,
       "version_minor": 0
      },
      "text/plain": [
       "VBox()"
      ]
     },
     "metadata": {},
     "output_type": "display_data"
    },
    {
     "data": {
      "application/vnd.jupyter.widget-view+json": {
       "model_id": "",
       "version_major": 2,
       "version_minor": 0
      },
      "text/plain": [
       "FloatProgress(value=0.0, bar_style='info', description='Progress:', layout=Layout(height='25px', width='50%'),…"
      ]
     },
     "metadata": {},
     "output_type": "display_data"
    },
    {
     "name": "stdout",
     "output_type": "stream",
     "text": [
      "+--------+-----------+---------+--------------------+\n",
      "|Tweet_ID|     Entity|Sentiment|               Tweet|\n",
      "+--------+-----------+---------+--------------------+\n",
      "|    2401|Borderlands| Positive|I am coming to th...|\n",
      "|    2401|Borderlands| Positive|im getting on bor...|\n",
      "|    2401|Borderlands| Positive|im coming on bord...|\n",
      "|    2401|Borderlands| Positive|im getting on bor...|\n",
      "|    2401|Borderlands| Positive|im getting into b...|\n",
      "+--------+-----------+---------+--------------------+\n",
      "only showing top 5 rows"
     ]
    }
   ],
   "source": [
    "train.show(5)"
   ]
  },
  {
   "cell_type": "code",
   "execution_count": 43,
   "id": "021d5eb4-2ca8-4b8d-b277-db69a6c27361",
   "metadata": {
    "execution": {
     "iopub.execute_input": "2023-05-13T16:16:50.988469Z",
     "iopub.status.busy": "2023-05-13T16:16:50.988167Z",
     "iopub.status.idle": "2023-05-13T16:16:51.741239Z",
     "shell.execute_reply": "2023-05-13T16:16:51.740260Z",
     "shell.execute_reply.started": "2023-05-13T16:16:50.988443Z"
    },
    "tags": []
   },
   "outputs": [
    {
     "data": {
      "application/vnd.jupyter.widget-view+json": {
       "model_id": "65ce1082372d49d9a58e66499c7b424d",
       "version_major": 2,
       "version_minor": 0
      },
      "text/plain": [
       "VBox()"
      ]
     },
     "metadata": {},
     "output_type": "display_data"
    },
    {
     "data": {
      "application/vnd.jupyter.widget-view+json": {
       "model_id": "",
       "version_major": 2,
       "version_minor": 0
      },
      "text/plain": [
       "FloatProgress(value=0.0, bar_style='info', description='Progress:', layout=Layout(height='25px', width='50%'),…"
      ]
     },
     "metadata": {},
     "output_type": "display_data"
    },
    {
     "name": "stdout",
     "output_type": "stream",
     "text": [
      "+--------+---------+---------+--------------------+\n",
      "|Tweet_ID|   Entity|Sentiment|               Tweet|\n",
      "+--------+---------+---------+--------------------+\n",
      "|     352|   Amazon|  Neutral|BBC News - Amazon...|\n",
      "|    8312|Microsoft| Negative|@Microsoft Why do...|\n",
      "|    4371|    CS-GO| Negative|CSGO matchmaking ...|\n",
      "|    4433|   Google|  Neutral|Now the President...|\n",
      "|    6273|     FIFA| Negative|Hi @EAHelp I’ve h...|\n",
      "+--------+---------+---------+--------------------+\n",
      "only showing top 5 rows"
     ]
    }
   ],
   "source": [
    "test.show(5)"
   ]
  },
  {
   "cell_type": "markdown",
   "id": "2b10ef86-a3cb-4665-8e94-43a2eaab6f82",
   "metadata": {
    "tags": []
   },
   "source": [
    "### Obtain sentiment and tweet across all tweet IDs"
   ]
  },
  {
   "cell_type": "code",
   "execution_count": 21,
   "id": "77ebebe6-77fd-4607-840b-6945b71cb13c",
   "metadata": {
    "execution": {
     "iopub.execute_input": "2023-05-13T16:04:16.820775Z",
     "iopub.status.busy": "2023-05-13T16:04:16.820442Z",
     "iopub.status.idle": "2023-05-13T16:04:17.570272Z",
     "shell.execute_reply": "2023-05-13T16:04:17.569551Z",
     "shell.execute_reply.started": "2023-05-13T16:04:16.820744Z"
    },
    "tags": []
   },
   "outputs": [
    {
     "data": {
      "application/vnd.jupyter.widget-view+json": {
       "model_id": "1e5cf445ac1c4d6e9ef792ee3ec2ec71",
       "version_major": 2,
       "version_minor": 0
      },
      "text/plain": [
       "VBox()"
      ]
     },
     "metadata": {},
     "output_type": "display_data"
    },
    {
     "data": {
      "application/vnd.jupyter.widget-view+json": {
       "model_id": "",
       "version_major": 2,
       "version_minor": 0
      },
      "text/plain": [
       "FloatProgress(value=0.0, bar_style='info', description='Progress:', layout=Layout(height='25px', width='50%'),…"
      ]
     },
     "metadata": {},
     "output_type": "display_data"
    },
    {
     "name": "stdout",
     "output_type": "stream",
     "text": [
      "+---------+--------------------+\n",
      "|Sentiment|               Tweet|\n",
      "+---------+--------------------+\n",
      "| Positive|I am coming to th...|\n",
      "| Positive|im getting on bor...|\n",
      "| Positive|im coming on bord...|\n",
      "| Positive|im getting on bor...|\n",
      "| Positive|im getting into b...|\n",
      "+---------+--------------------+\n",
      "only showing top 5 rows"
     ]
    }
   ],
   "source": [
    "train.select(\"Sentiment\", \"Tweet\").show(5)"
   ]
  },
  {
   "cell_type": "code",
   "execution_count": 44,
   "id": "ea0cab6f-cdd4-47e9-ab2d-d2386ca376f4",
   "metadata": {
    "execution": {
     "iopub.execute_input": "2023-05-13T16:17:09.272887Z",
     "iopub.status.busy": "2023-05-13T16:17:09.272572Z",
     "iopub.status.idle": "2023-05-13T16:17:10.022503Z",
     "shell.execute_reply": "2023-05-13T16:17:10.021778Z",
     "shell.execute_reply.started": "2023-05-13T16:17:09.272860Z"
    }
   },
   "outputs": [
    {
     "data": {
      "application/vnd.jupyter.widget-view+json": {
       "model_id": "41d08236fe094a57a6846d476a315f95",
       "version_major": 2,
       "version_minor": 0
      },
      "text/plain": [
       "VBox()"
      ]
     },
     "metadata": {},
     "output_type": "display_data"
    },
    {
     "data": {
      "application/vnd.jupyter.widget-view+json": {
       "model_id": "",
       "version_major": 2,
       "version_minor": 0
      },
      "text/plain": [
       "FloatProgress(value=0.0, bar_style='info', description='Progress:', layout=Layout(height='25px', width='50%'),…"
      ]
     },
     "metadata": {},
     "output_type": "display_data"
    },
    {
     "name": "stdout",
     "output_type": "stream",
     "text": [
      "+---------+--------------------+\n",
      "|Sentiment|               Tweet|\n",
      "+---------+--------------------+\n",
      "|  Neutral|BBC News - Amazon...|\n",
      "| Negative|@Microsoft Why do...|\n",
      "| Negative|CSGO matchmaking ...|\n",
      "|  Neutral|Now the President...|\n",
      "| Negative|Hi @EAHelp I’ve h...|\n",
      "+---------+--------------------+\n",
      "only showing top 5 rows"
     ]
    }
   ],
   "source": [
    "test.select(\"Sentiment\", \"Tweet\").show(5)"
   ]
  },
  {
   "cell_type": "markdown",
   "id": "132a91a9-b5e5-4cc4-a712-14dd7cca2f5b",
   "metadata": {},
   "source": [
    "### Describe the datasets"
   ]
  },
  {
   "cell_type": "code",
   "execution_count": 22,
   "id": "274037d2-67dc-42aa-9739-118bd9319cca",
   "metadata": {
    "execution": {
     "iopub.execute_input": "2023-05-13T16:04:23.556376Z",
     "iopub.status.busy": "2023-05-13T16:04:23.556064Z",
     "iopub.status.idle": "2023-05-13T16:04:30.835329Z",
     "shell.execute_reply": "2023-05-13T16:04:30.834656Z",
     "shell.execute_reply.started": "2023-05-13T16:04:23.556351Z"
    }
   },
   "outputs": [
    {
     "data": {
      "application/vnd.jupyter.widget-view+json": {
       "model_id": "d9498397d29e46a6be255fdfbc98414a",
       "version_major": 2,
       "version_minor": 0
      },
      "text/plain": [
       "VBox()"
      ]
     },
     "metadata": {},
     "output_type": "display_data"
    },
    {
     "data": {
      "application/vnd.jupyter.widget-view+json": {
       "model_id": "",
       "version_major": 2,
       "version_minor": 0
      },
      "text/plain": [
       "FloatProgress(value=0.0, bar_style='info', description='Progress:', layout=Layout(height='25px', width='50%'),…"
      ]
     },
     "metadata": {},
     "output_type": "display_data"
    },
    {
     "name": "stdout",
     "output_type": "stream",
     "text": [
      "+-------+------------------+---------------+----------+--------------------+\n",
      "|summary|          Tweet_ID|         Entity| Sentiment|               Tweet|\n",
      "+-------+------------------+---------------+----------+--------------------+\n",
      "|  count|             74681|          74681|     74681|               73995|\n",
      "|   mean|   6432.6401494356|           null|      null|                 3.2|\n",
      "| stddev|3740.4238192995094|           null|      null|   2.007130147392398|\n",
      "|    min|                 1|         Amazon|Irrelevant|                    |\n",
      "|    max|              9999|johnson&johnson|  Positive|🧻 at Home Depot ...|\n",
      "+-------+------------------+---------------+----------+--------------------+"
     ]
    }
   ],
   "source": [
    "train.describe().show()"
   ]
  },
  {
   "cell_type": "code",
   "execution_count": 45,
   "id": "e032a957-00b0-4443-be4e-ae0576e437b6",
   "metadata": {
    "execution": {
     "iopub.execute_input": "2023-05-13T16:17:34.032450Z",
     "iopub.status.busy": "2023-05-13T16:17:34.032132Z",
     "iopub.status.idle": "2023-05-13T16:17:36.293980Z",
     "shell.execute_reply": "2023-05-13T16:17:36.293264Z",
     "shell.execute_reply.started": "2023-05-13T16:17:34.032423Z"
    }
   },
   "outputs": [
    {
     "data": {
      "application/vnd.jupyter.widget-view+json": {
       "model_id": "708c0067a7be4699a3c99d0e6e27cb77",
       "version_major": 2,
       "version_minor": 0
      },
      "text/plain": [
       "VBox()"
      ]
     },
     "metadata": {},
     "output_type": "display_data"
    },
    {
     "data": {
      "application/vnd.jupyter.widget-view+json": {
       "model_id": "",
       "version_major": 2,
       "version_minor": 0
      },
      "text/plain": [
       "FloatProgress(value=0.0, bar_style='info', description='Progress:', layout=Layout(height='25px', width='50%'),…"
      ]
     },
     "metadata": {},
     "output_type": "display_data"
    },
    {
     "name": "stdout",
     "output_type": "stream",
     "text": [
      "+-------+--------------------+-----------------+--------------------+--------------------+\n",
      "|summary|            Tweet_ID|           Entity|           Sentiment|               Tweet|\n",
      "+-------+--------------------+-----------------+--------------------+--------------------+\n",
      "|  count|                1509|             1042|                1014|                 999|\n",
      "|   mean|    6435.15915915916|             null|                null|                null|\n",
      "| stddev|   3728.912225900553|             null|                null|                null|\n",
      "|    min|            100 V...| 2020 at 11:31AM\"| ...  and free at...|\"\"\"A delayed game...|\n",
      "|    max|     🥉@cristianhs30|  johnson&johnson|            Positive|🤣👉 @KEEMSTAR Ya...|\n",
      "+-------+--------------------+-----------------+--------------------+--------------------+"
     ]
    }
   ],
   "source": [
    "test.describe().show()"
   ]
  },
  {
   "cell_type": "markdown",
   "id": "c191436f-23b1-429a-87df-4030f315bba1",
   "metadata": {},
   "source": [
    "### Check for null values in the datasets and drop them"
   ]
  },
  {
   "cell_type": "code",
   "execution_count": 49,
   "id": "59b404dd-d9b9-4baf-b1ad-f809a607c035",
   "metadata": {
    "execution": {
     "iopub.execute_input": "2023-05-13T16:19:30.956643Z",
     "iopub.status.busy": "2023-05-13T16:19:30.956338Z",
     "iopub.status.idle": "2023-05-13T16:19:31.705943Z",
     "shell.execute_reply": "2023-05-13T16:19:31.705087Z",
     "shell.execute_reply.started": "2023-05-13T16:19:30.956618Z"
    },
    "tags": []
   },
   "outputs": [
    {
     "data": {
      "application/vnd.jupyter.widget-view+json": {
       "model_id": "902d8c2f534f4f55a82ed19c77765397",
       "version_major": 2,
       "version_minor": 0
      },
      "text/plain": [
       "VBox()"
      ]
     },
     "metadata": {},
     "output_type": "display_data"
    },
    {
     "data": {
      "application/vnd.jupyter.widget-view+json": {
       "model_id": "",
       "version_major": 2,
       "version_minor": 0
      },
      "text/plain": [
       "FloatProgress(value=0.0, bar_style='info', description='Progress:', layout=Layout(height='25px', width='50%'),…"
      ]
     },
     "metadata": {},
     "output_type": "display_data"
    },
    {
     "name": "stdout",
     "output_type": "stream",
     "text": [
      "+--------+-----------+---------+--------------------+\n",
      "|Tweet_ID|     Entity|Sentiment|               Tweet|\n",
      "+--------+-----------+---------+--------------------+\n",
      "|    2401|Borderlands| Positive|I am coming to th...|\n",
      "|    2401|Borderlands| Positive|im getting on bor...|\n",
      "|    2401|Borderlands| Positive|im coming on bord...|\n",
      "|    2401|Borderlands| Positive|im getting on bor...|\n",
      "|    2401|Borderlands| Positive|im getting into b...|\n",
      "|    2402|Borderlands| Positive|So I spent a few ...|\n",
      "|    2402|Borderlands| Positive|So I spent a coup...|\n",
      "+--------+-----------+---------+--------------------+\n",
      "only showing top 7 rows"
     ]
    }
   ],
   "source": [
    "# train.na.drop().show()\n",
    "train.na.fill('Neutral').show(7)"
   ]
  },
  {
   "cell_type": "code",
   "execution_count": 50,
   "id": "002cac50-fdc8-4960-b6bb-429ad290b6b9",
   "metadata": {
    "execution": {
     "iopub.execute_input": "2023-05-13T16:19:33.399057Z",
     "iopub.status.busy": "2023-05-13T16:19:33.398735Z",
     "iopub.status.idle": "2023-05-13T16:19:33.642498Z",
     "shell.execute_reply": "2023-05-13T16:19:33.641784Z",
     "shell.execute_reply.started": "2023-05-13T16:19:33.399033Z"
    },
    "tags": []
   },
   "outputs": [
    {
     "data": {
      "application/vnd.jupyter.widget-view+json": {
       "model_id": "86a6c8abf7ec49d19a547575af020fc8",
       "version_major": 2,
       "version_minor": 0
      },
      "text/plain": [
       "VBox()"
      ]
     },
     "metadata": {},
     "output_type": "display_data"
    },
    {
     "data": {
      "application/vnd.jupyter.widget-view+json": {
       "model_id": "",
       "version_major": 2,
       "version_minor": 0
      },
      "text/plain": [
       "FloatProgress(value=0.0, bar_style='info', description='Progress:', layout=Layout(height='25px', width='50%'),…"
      ]
     },
     "metadata": {},
     "output_type": "display_data"
    },
    {
     "name": "stdout",
     "output_type": "stream",
     "text": [
      "+--------------------+---------+---------+--------------------+\n",
      "|            Tweet_ID|   Entity|Sentiment|               Tweet|\n",
      "+--------------------+---------+---------+--------------------+\n",
      "|                 352|   Amazon|  Neutral|BBC News - Amazon...|\n",
      "|                8312|Microsoft| Negative|@Microsoft Why do...|\n",
      "|                4371|    CS-GO| Negative|CSGO matchmaking ...|\n",
      "|                4433|   Google|  Neutral|Now the President...|\n",
      "|                6273|     FIFA| Negative|Hi @EAHelp I’ve h...|\n",
      "|                7925|MaddenNFL| Positive|Thank you @EAMadd...|\n",
      "|New TE Austin Hoo...|  Neutral|  Neutral|             Neutral|\n",
      "+--------------------+---------+---------+--------------------+\n",
      "only showing top 7 rows"
     ]
    }
   ],
   "source": [
    "# test.na.drop().show()\n",
    "test.na.fill('Neutral').show(7)"
   ]
  },
  {
   "cell_type": "code",
   "execution_count": 51,
   "id": "55f01cf7-626f-429f-8020-3995aae62310",
   "metadata": {
    "execution": {
     "iopub.execute_input": "2023-05-13T16:19:44.948886Z",
     "iopub.status.busy": "2023-05-13T16:19:44.948573Z",
     "iopub.status.idle": "2023-05-13T16:19:44.999747Z",
     "shell.execute_reply": "2023-05-13T16:19:44.998890Z",
     "shell.execute_reply.started": "2023-05-13T16:19:44.948861Z"
    },
    "tags": []
   },
   "outputs": [
    {
     "data": {
      "application/vnd.jupyter.widget-view+json": {
       "model_id": "92eb36e3aa134169af9b8fd801c3066a",
       "version_major": 2,
       "version_minor": 0
      },
      "text/plain": [
       "VBox()"
      ]
     },
     "metadata": {},
     "output_type": "display_data"
    },
    {
     "data": {
      "application/vnd.jupyter.widget-view+json": {
       "model_id": "",
       "version_major": 2,
       "version_minor": 0
      },
      "text/plain": [
       "FloatProgress(value=0.0, bar_style='info', description='Progress:', layout=Layout(height='25px', width='50%'),…"
      ]
     },
     "metadata": {},
     "output_type": "display_data"
    }
   ],
   "source": [
    "### Datadecription after removing null values"
   ]
  },
  {
   "cell_type": "code",
   "execution_count": 52,
   "id": "0e6c836c-6b96-4c6d-b8e9-fd26b1af74f0",
   "metadata": {
    "execution": {
     "iopub.execute_input": "2023-05-13T16:19:46.867694Z",
     "iopub.status.busy": "2023-05-13T16:19:46.867395Z",
     "iopub.status.idle": "2023-05-13T16:19:52.145267Z",
     "shell.execute_reply": "2023-05-13T16:19:52.144534Z",
     "shell.execute_reply.started": "2023-05-13T16:19:46.867669Z"
    },
    "tags": []
   },
   "outputs": [
    {
     "data": {
      "application/vnd.jupyter.widget-view+json": {
       "model_id": "bd295065fead456d8c5077dd446c8326",
       "version_major": 2,
       "version_minor": 0
      },
      "text/plain": [
       "VBox()"
      ]
     },
     "metadata": {},
     "output_type": "display_data"
    },
    {
     "data": {
      "application/vnd.jupyter.widget-view+json": {
       "model_id": "",
       "version_major": 2,
       "version_minor": 0
      },
      "text/plain": [
       "FloatProgress(value=0.0, bar_style='info', description='Progress:', layout=Layout(height='25px', width='50%'),…"
      ]
     },
     "metadata": {},
     "output_type": "display_data"
    },
    {
     "name": "stdout",
     "output_type": "stream",
     "text": [
      "+-------+------------------+---------------+----------+--------------------+\n",
      "|summary|          Tweet_ID|         Entity| Sentiment|               Tweet|\n",
      "+-------+------------------+---------------+----------+--------------------+\n",
      "|  count|             74681|          74681|     74681|               73995|\n",
      "|   mean|   6432.6401494356|           null|      null|                 3.2|\n",
      "| stddev|3740.4238192995094|           null|      null|   2.007130147392398|\n",
      "|    min|                 1|         Amazon|Irrelevant|                    |\n",
      "|    max|              9999|johnson&johnson|  Positive|🧻 at Home Depot ...|\n",
      "+-------+------------------+---------------+----------+--------------------+"
     ]
    }
   ],
   "source": [
    "train.describe().show()"
   ]
  },
  {
   "cell_type": "markdown",
   "id": "69cae392-6065-4d6a-ae3c-e1e86014abb4",
   "metadata": {},
   "source": [
    "### Group the dataset by Sentiment"
   ]
  },
  {
   "cell_type": "code",
   "execution_count": 53,
   "id": "290d9d3b-f3c3-43f5-ab47-394b6ee84ffc",
   "metadata": {
    "execution": {
     "iopub.execute_input": "2023-05-13T16:20:01.665975Z",
     "iopub.status.busy": "2023-05-13T16:20:01.665641Z",
     "iopub.status.idle": "2023-05-13T16:20:02.920994Z",
     "shell.execute_reply": "2023-05-13T16:20:02.920193Z",
     "shell.execute_reply.started": "2023-05-13T16:20:01.665949Z"
    },
    "tags": []
   },
   "outputs": [
    {
     "data": {
      "application/vnd.jupyter.widget-view+json": {
       "model_id": "edec3e1ff1344d7c80c5853ea4a1f1cf",
       "version_major": 2,
       "version_minor": 0
      },
      "text/plain": [
       "VBox()"
      ]
     },
     "metadata": {},
     "output_type": "display_data"
    },
    {
     "data": {
      "application/vnd.jupyter.widget-view+json": {
       "model_id": "",
       "version_major": 2,
       "version_minor": 0
      },
      "text/plain": [
       "FloatProgress(value=0.0, bar_style='info', description='Progress:', layout=Layout(height='25px', width='50%'),…"
      ]
     },
     "metadata": {},
     "output_type": "display_data"
    },
    {
     "name": "stdout",
     "output_type": "stream",
     "text": [
      "+----------+-----+\n",
      "| Sentiment|count|\n",
      "+----------+-----+\n",
      "|Irrelevant|12990|\n",
      "|  Positive|20831|\n",
      "|   Neutral|18318|\n",
      "|  Negative|22542|\n",
      "+----------+-----+"
     ]
    }
   ],
   "source": [
    "train.groupBy('Sentiment').count().show()"
   ]
  },
  {
   "cell_type": "markdown",
   "id": "d087697e-3bd3-473e-a257-fc38fc4382e6",
   "metadata": {},
   "source": [
    "### Count and display a unique ID of single column"
   ]
  },
  {
   "cell_type": "code",
   "execution_count": 54,
   "id": "78f7d17b-c254-4b36-8e5b-1a16c160e6ae",
   "metadata": {
    "execution": {
     "iopub.execute_input": "2023-05-13T16:20:18.155541Z",
     "iopub.status.busy": "2023-05-13T16:20:18.155227Z",
     "iopub.status.idle": "2023-05-13T16:20:19.412337Z",
     "shell.execute_reply": "2023-05-13T16:20:19.411669Z",
     "shell.execute_reply.started": "2023-05-13T16:20:18.155513Z"
    },
    "tags": []
   },
   "outputs": [
    {
     "data": {
      "application/vnd.jupyter.widget-view+json": {
       "model_id": "4d4cffccd49f4180b102ce1f8b68324a",
       "version_major": 2,
       "version_minor": 0
      },
      "text/plain": [
       "VBox()"
      ]
     },
     "metadata": {},
     "output_type": "display_data"
    },
    {
     "data": {
      "application/vnd.jupyter.widget-view+json": {
       "model_id": "",
       "version_major": 2,
       "version_minor": 0
      },
      "text/plain": [
       "FloatProgress(value=0.0, bar_style='info', description='Progress:', layout=Layout(height='25px', width='50%'),…"
      ]
     },
     "metadata": {},
     "output_type": "display_data"
    },
    {
     "name": "stdout",
     "output_type": "stream",
     "text": [
      "+--------+\n",
      "|Tweet_ID|\n",
      "+--------+\n",
      "|     296|\n",
      "|   13192|\n",
      "|   12529|\n",
      "|    1090|\n",
      "|    7252|\n",
      "|    5325|\n",
      "|    1512|\n",
      "|    1572|\n",
      "|   11888|\n",
      "|   10436|\n",
      "|    9630|\n",
      "|    9830|\n",
      "|     451|\n",
      "|    8306|\n",
      "|    1394|\n",
      "|    6366|\n",
      "|    2700|\n",
      "|    1870|\n",
      "|    2917|\n",
      "|    7248|\n",
      "+--------+\n",
      "only showing top 20 rows"
     ]
    }
   ],
   "source": [
    "train.select('Tweet_ID').distinct().show()"
   ]
  },
  {
   "cell_type": "code",
   "execution_count": 55,
   "id": "a0d8adc2-6be4-4f62-abec-74189a1a6487",
   "metadata": {
    "execution": {
     "iopub.execute_input": "2023-05-13T16:20:22.984765Z",
     "iopub.status.busy": "2023-05-13T16:20:22.984457Z",
     "iopub.status.idle": "2023-05-13T16:20:23.025326Z",
     "shell.execute_reply": "2023-05-13T16:20:23.024681Z",
     "shell.execute_reply.started": "2023-05-13T16:20:22.984739Z"
    },
    "tags": []
   },
   "outputs": [
    {
     "data": {
      "application/vnd.jupyter.widget-view+json": {
       "model_id": "e612709a2cea487c97a3da7ba03b1cd0",
       "version_major": 2,
       "version_minor": 0
      },
      "text/plain": [
       "VBox()"
      ]
     },
     "metadata": {},
     "output_type": "display_data"
    },
    {
     "data": {
      "application/vnd.jupyter.widget-view+json": {
       "model_id": "",
       "version_major": 2,
       "version_minor": 0
      },
      "text/plain": [
       "FloatProgress(value=0.0, bar_style='info', description='Progress:', layout=Layout(height='25px', width='50%'),…"
      ]
     },
     "metadata": {},
     "output_type": "display_data"
    },
    {
     "name": "stdout",
     "output_type": "stream",
     "text": [
      "root\n",
      " |-- Tweet_ID: string (nullable = true)\n",
      " |-- Entity: string (nullable = true)\n",
      " |-- Sentiment: string (nullable = true)\n",
      " |-- Tweet: string (nullable = true)"
     ]
    }
   ],
   "source": [
    "train.printSchema()"
   ]
  },
  {
   "cell_type": "code",
   "execution_count": 56,
   "id": "71e9b495-8b64-4b8e-897f-57381064ba2d",
   "metadata": {
    "execution": {
     "iopub.execute_input": "2023-05-13T16:20:24.939628Z",
     "iopub.status.busy": "2023-05-13T16:20:24.939315Z",
     "iopub.status.idle": "2023-05-13T16:20:24.980410Z",
     "shell.execute_reply": "2023-05-13T16:20:24.979727Z",
     "shell.execute_reply.started": "2023-05-13T16:20:24.939600Z"
    },
    "tags": []
   },
   "outputs": [
    {
     "data": {
      "application/vnd.jupyter.widget-view+json": {
       "model_id": "d9901761066142febcb65beea5d408f0",
       "version_major": 2,
       "version_minor": 0
      },
      "text/plain": [
       "VBox()"
      ]
     },
     "metadata": {},
     "output_type": "display_data"
    },
    {
     "data": {
      "application/vnd.jupyter.widget-view+json": {
       "model_id": "",
       "version_major": 2,
       "version_minor": 0
      },
      "text/plain": [
       "FloatProgress(value=0.0, bar_style='info', description='Progress:', layout=Layout(height='25px', width='50%'),…"
      ]
     },
     "metadata": {},
     "output_type": "display_data"
    },
    {
     "name": "stdout",
     "output_type": "stream",
     "text": [
      "['Tweet_ID', 'Entity', 'Sentiment', 'Tweet']"
     ]
    }
   ],
   "source": [
    "train.columns"
   ]
  },
  {
   "cell_type": "markdown",
   "id": "155fc34c-9a0b-4dad-883a-f2072c31a7a8",
   "metadata": {},
   "source": [
    "### Read the first tweet"
   ]
  },
  {
   "cell_type": "code",
   "execution_count": 57,
   "id": "f2935122-2ec1-43c3-b115-9b747ed18454",
   "metadata": {
    "execution": {
     "iopub.execute_input": "2023-05-13T16:20:29.426733Z",
     "iopub.status.busy": "2023-05-13T16:20:29.426353Z",
     "iopub.status.idle": "2023-05-13T16:20:29.671720Z",
     "shell.execute_reply": "2023-05-13T16:20:29.670948Z",
     "shell.execute_reply.started": "2023-05-13T16:20:29.426700Z"
    },
    "tags": []
   },
   "outputs": [
    {
     "data": {
      "application/vnd.jupyter.widget-view+json": {
       "model_id": "729b1be87d504c7faf63990b87cc52f7",
       "version_major": 2,
       "version_minor": 0
      },
      "text/plain": [
       "VBox()"
      ]
     },
     "metadata": {},
     "output_type": "display_data"
    },
    {
     "data": {
      "application/vnd.jupyter.widget-view+json": {
       "model_id": "",
       "version_major": 2,
       "version_minor": 0
      },
      "text/plain": [
       "FloatProgress(value=0.0, bar_style='info', description='Progress:', layout=Layout(height='25px', width='50%'),…"
      ]
     },
     "metadata": {},
     "output_type": "display_data"
    },
    {
     "name": "stdout",
     "output_type": "stream",
     "text": [
      "Row(Tweet_ID='2401', Entity='Borderlands', Sentiment='Positive', Tweet='I am coming to the borders and I will kill you all,')"
     ]
    }
   ],
   "source": [
    "train.first()"
   ]
  },
  {
   "cell_type": "markdown",
   "id": "e088f88c-a2bd-415b-9d70-157218fd4c35",
   "metadata": {
    "execution": {
     "iopub.execute_input": "2023-05-13T15:23:30.227936Z",
     "iopub.status.busy": "2023-05-13T15:23:30.227617Z",
     "iopub.status.idle": "2023-05-13T15:23:30.278016Z",
     "shell.execute_reply": "2023-05-13T15:23:30.277272Z",
     "shell.execute_reply.started": "2023-05-13T15:23:30.227903Z"
    }
   },
   "source": [
    "### Convert sql dataframe to Pandas then use it for data visualization"
   ]
  },
  {
   "cell_type": "code",
   "execution_count": 58,
   "id": "17dd10de-bbba-4503-8c35-81085ec0351a",
   "metadata": {
    "execution": {
     "iopub.execute_input": "2023-05-13T16:20:39.473415Z",
     "iopub.status.busy": "2023-05-13T16:20:39.473096Z",
     "iopub.status.idle": "2023-05-13T16:20:39.513260Z",
     "shell.execute_reply": "2023-05-13T16:20:39.512576Z",
     "shell.execute_reply.started": "2023-05-13T16:20:39.473387Z"
    },
    "tags": []
   },
   "outputs": [
    {
     "data": {
      "application/vnd.jupyter.widget-view+json": {
       "model_id": "b0a3ae530ff24b0198e5bc0d9ecb92a3",
       "version_major": 2,
       "version_minor": 0
      },
      "text/plain": [
       "VBox()"
      ]
     },
     "metadata": {},
     "output_type": "display_data"
    },
    {
     "data": {
      "application/vnd.jupyter.widget-view+json": {
       "model_id": "",
       "version_major": 2,
       "version_minor": 0
      },
      "text/plain": [
       "FloatProgress(value=0.0, bar_style='info', description='Progress:', layout=Layout(height='25px', width='50%'),…"
      ]
     },
     "metadata": {},
     "output_type": "display_data"
    }
   ],
   "source": [
    "# train = train.toPandas()"
   ]
  },
  {
   "cell_type": "code",
   "execution_count": 59,
   "id": "30f30928-07b7-4287-be7e-25af75e51f3a",
   "metadata": {
    "execution": {
     "iopub.execute_input": "2023-05-13T16:20:39.913142Z",
     "iopub.status.busy": "2023-05-13T16:20:39.912845Z",
     "iopub.status.idle": "2023-05-13T16:20:39.951688Z",
     "shell.execute_reply": "2023-05-13T16:20:39.951050Z",
     "shell.execute_reply.started": "2023-05-13T16:20:39.913116Z"
    },
    "tags": []
   },
   "outputs": [
    {
     "data": {
      "application/vnd.jupyter.widget-view+json": {
       "model_id": "fcc7f9925c8a461dbd53700cdf212765",
       "version_major": 2,
       "version_minor": 0
      },
      "text/plain": [
       "VBox()"
      ]
     },
     "metadata": {},
     "output_type": "display_data"
    },
    {
     "data": {
      "application/vnd.jupyter.widget-view+json": {
       "model_id": "",
       "version_major": 2,
       "version_minor": 0
      },
      "text/plain": [
       "FloatProgress(value=0.0, bar_style='info', description='Progress:', layout=Layout(height='25px', width='50%'),…"
      ]
     },
     "metadata": {},
     "output_type": "display_data"
    }
   ],
   "source": [
    "# sns.histplot(train['Tweet'].str.len(), binwidth=50)\n",
    "# plt.show()"
   ]
  },
  {
   "cell_type": "code",
   "execution_count": 60,
   "id": "3bb026f5-a6b2-41e9-be64-5296a4df0fc8",
   "metadata": {
    "execution": {
     "iopub.execute_input": "2023-05-13T16:20:40.275281Z",
     "iopub.status.busy": "2023-05-13T16:20:40.274983Z",
     "iopub.status.idle": "2023-05-13T16:20:40.314759Z",
     "shell.execute_reply": "2023-05-13T16:20:40.314051Z",
     "shell.execute_reply.started": "2023-05-13T16:20:40.275256Z"
    },
    "tags": []
   },
   "outputs": [
    {
     "data": {
      "application/vnd.jupyter.widget-view+json": {
       "model_id": "4af56cfa15e8437da6366f0b249410f2",
       "version_major": 2,
       "version_minor": 0
      },
      "text/plain": [
       "VBox()"
      ]
     },
     "metadata": {},
     "output_type": "display_data"
    },
    {
     "data": {
      "application/vnd.jupyter.widget-view+json": {
       "model_id": "",
       "version_major": 2,
       "version_minor": 0
      },
      "text/plain": [
       "FloatProgress(value=0.0, bar_style='info', description='Progress:', layout=Layout(height='25px', width='50%'),…"
      ]
     },
     "metadata": {},
     "output_type": "display_data"
    }
   ],
   "source": [
    "# train.info()"
   ]
  },
  {
   "cell_type": "markdown",
   "id": "4fbadb3a-e5a4-4652-8ad5-71b87f0b7fdf",
   "metadata": {},
   "source": [
    "### Count information per category"
   ]
  },
  {
   "cell_type": "code",
   "execution_count": 61,
   "id": "d7e84fe9-cba1-41b0-9794-217a6ba72319",
   "metadata": {
    "execution": {
     "iopub.execute_input": "2023-05-13T16:20:42.973597Z",
     "iopub.status.busy": "2023-05-13T16:20:42.973293Z",
     "iopub.status.idle": "2023-05-13T16:20:43.014354Z",
     "shell.execute_reply": "2023-05-13T16:20:43.013664Z",
     "shell.execute_reply.started": "2023-05-13T16:20:42.973572Z"
    },
    "tags": []
   },
   "outputs": [
    {
     "data": {
      "application/vnd.jupyter.widget-view+json": {
       "model_id": "a1bda192e17641b6a10705c14e5ff665",
       "version_major": 2,
       "version_minor": 0
      },
      "text/plain": [
       "VBox()"
      ]
     },
     "metadata": {},
     "output_type": "display_data"
    },
    {
     "data": {
      "application/vnd.jupyter.widget-view+json": {
       "model_id": "",
       "version_major": 2,
       "version_minor": 0
      },
      "text/plain": [
       "FloatProgress(value=0.0, bar_style='info', description='Progress:', layout=Layout(height='25px', width='50%'),…"
      ]
     },
     "metadata": {},
     "output_type": "display_data"
    }
   ],
   "source": [
    "# data_count=train.groupby(by=[\"Entity\",\"Sentiment\"]).count().reset_index()\n",
    "# data_count.head()"
   ]
  },
  {
   "cell_type": "markdown",
   "id": "2a2d4474-db56-4ef4-8c95-6b30daa859f3",
   "metadata": {},
   "source": [
    "### Save the prepared dataset in parquet format"
   ]
  },
  {
   "cell_type": "code",
   "execution_count": 65,
   "id": "c04b232f-9ecf-4513-9ff1-2df1d08a4a07",
   "metadata": {
    "execution": {
     "iopub.execute_input": "2023-05-13T16:23:01.105592Z",
     "iopub.status.busy": "2023-05-13T16:23:01.105266Z",
     "iopub.status.idle": "2023-05-13T16:23:12.391835Z",
     "shell.execute_reply": "2023-05-13T16:23:12.391098Z",
     "shell.execute_reply.started": "2023-05-13T16:23:01.105567Z"
    },
    "tags": []
   },
   "outputs": [
    {
     "data": {
      "application/vnd.jupyter.widget-view+json": {
       "model_id": "7d4e3a449f8e482eb8092672485f6b1c",
       "version_major": 2,
       "version_minor": 0
      },
      "text/plain": [
       "VBox()"
      ]
     },
     "metadata": {},
     "output_type": "display_data"
    },
    {
     "data": {
      "application/vnd.jupyter.widget-view+json": {
       "model_id": "",
       "version_major": 2,
       "version_minor": 0
      },
      "text/plain": [
       "FloatProgress(value=0.0, bar_style='info', description='Progress:', layout=Layout(height='25px', width='50%'),…"
      ]
     },
     "metadata": {},
     "output_type": "display_data"
    }
   ],
   "source": [
    "train.write.parquet(s3_bucket + output_destination_loc + \"/traintweetsentiments.paquet\", mode='overwrite')"
   ]
  },
  {
   "cell_type": "code",
   "execution_count": 66,
   "id": "12d44396-2b29-4fde-93b3-7ac480d7be74",
   "metadata": {
    "execution": {
     "iopub.execute_input": "2023-05-13T16:23:47.372958Z",
     "iopub.status.busy": "2023-05-13T16:23:47.372634Z",
     "iopub.status.idle": "2023-05-13T16:23:48.123170Z",
     "shell.execute_reply": "2023-05-13T16:23:48.122472Z",
     "shell.execute_reply.started": "2023-05-13T16:23:47.372930Z"
    }
   },
   "outputs": [
    {
     "data": {
      "application/vnd.jupyter.widget-view+json": {
       "model_id": "3bc00991204646cba659968038b8a7c2",
       "version_major": 2,
       "version_minor": 0
      },
      "text/plain": [
       "VBox()"
      ]
     },
     "metadata": {},
     "output_type": "display_data"
    },
    {
     "data": {
      "application/vnd.jupyter.widget-view+json": {
       "model_id": "",
       "version_major": 2,
       "version_minor": 0
      },
      "text/plain": [
       "FloatProgress(value=0.0, bar_style='info', description='Progress:', layout=Layout(height='25px', width='50%'),…"
      ]
     },
     "metadata": {},
     "output_type": "display_data"
    }
   ],
   "source": [
    "test.write.parquet(s3_bucket + output_destination_loc + \"/testtweetsentiments.paquet\", mode='overwrite')\n"
   ]
  },
  {
   "cell_type": "code",
   "execution_count": null,
   "id": "5448f201-aff1-4486-b5e0-4d9be5c9df61",
   "metadata": {},
   "outputs": [],
   "source": []
  }
 ],
 "metadata": {
  "kernelspec": {
   "display_name": "PySpark",
   "language": "python",
   "name": "pysparkkernel"
  },
  "language_info": {
   "codemirror_mode": {
    "name": "python",
    "version": 3
   },
   "file_extension": ".py",
   "mimetype": "text/x-python",
   "name": "pyspark",
   "pygments_lexer": "python3"
  }
 },
 "nbformat": 4,
 "nbformat_minor": 5
}
